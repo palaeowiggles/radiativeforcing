{
 "cells": [
  {
   "cell_type": "code",
   "execution_count": 1,
   "metadata": {},
   "outputs": [
    {
     "data": {
      "text/html": [
       "<script>\n",
       "code_show=true; \n",
       "function code_toggle() {\n",
       " if (code_show){\n",
       " $('div.input').hide();\n",
       " } else {\n",
       " $('div.input').show();\n",
       " }\n",
       " code_show = !code_show\n",
       "} \n",
       "$( document ).ready(code_toggle);\n",
       "</script>\n",
       "\n",
       "<i>The raw code for this Jupyter notebook is by default hidden for easier reading.\n",
       "To toggle on/off the raw code, click <a href=\"javascript:code_toggle()\">here</a>.</i>"
      ],
      "text/plain": [
       "<IPython.core.display.HTML object>"
      ]
     },
     "execution_count": 1,
     "metadata": {},
     "output_type": "execute_result"
    }
   ],
   "source": [
    "from IPython.display import HTML\n",
    "HTML('''<script>\n",
    "code_show=true; \n",
    "function code_toggle() {\n",
    " if (code_show){\n",
    " $('div.input').hide();\n",
    " } else {\n",
    " $('div.input').show();\n",
    " }\n",
    " code_show = !code_show\n",
    "} \n",
    "$( document ).ready(code_toggle);\n",
    "</script>\n",
    "\n",
    "<i>The raw code for this Jupyter notebook is by default hidden for easier reading.\n",
    "To toggle on/off the raw code, click <a href=\"javascript:code_toggle()\">here</a>.</i>''')"
   ]
  },
  {
   "cell_type": "markdown",
   "metadata": {},
   "source": [
    "# Climate change and radiative forcing\n",
    "You probably read that methane is a greenhouse gas more potent than CO<sub>2</sub>. What\n",
    "does this mean? To what extent is it true?\n",
    "\n",
    "This is a model of greenhouse gases' radiative forcing, using the values of the\n",
    "IPCC AR5, pages 731-738.\n",
    "\n",
    "    https://www.ipcc.ch/pdf/assessment-report/ar5/wg1/WG1AR5_Chapter08_FINAL.pdf\n",
    "\n",
    "CO2 follows a more intricate cycle, and cannot be modelled with a simple decay\n",
    "function. The model used can be found in Joos et al. (2013).\n",
    "    \n",
    "    https://www.atmos-chem-phys.net/13/2793/2013/acp-13-2793-2013.pdf\n",
    "\n",
    "This is inspired by the PhD thesis of Allan Shimako, available here\n",
    "    \n",
    "    https://tel.archives-ouvertes.fr/tel-01706684/document\n",
    "\n",
    "Radiative forcing is the ability of certain gases to \"trap\" heat in the atmosphere,\n",
    "this phenomenon is better known as greenhouse effect. Some gases are more efficient\n",
    "than others at trapping heat, and some remain much longer than others.\n",
    "\n",
    "The output of this code is an animation with three panels, showing the effect of\n",
    "the instant release of 1 Mt (1 megatonne = 1 million tonnes = 1 billion kilograms)\n",
    "of each of the greenhouse gases selected, where:\n",
    "- the top panel shows the instant forcing due to the gases being present in\n",
    "    the Earth's atmosphere (in watts per square meter),\n",
    "- the middle panel shows the cumulative effect of that forcing, equal to\n",
    "    the areas under the curves in the top graph integrated over the Earth's\n",
    "    surface every year (in joules),\n",
    "- the bottom panel shows the cumulated forcing (middle panel values) of\n",
    "    gases relative to that of carbon dioxide. This measure is called \"global\n",
    "    warming potential\" and is usually calculated for three time horizons: 20,\n",
    "    100, and 500 years, which are shown on the bottom graph."
   ]
  },
  {
   "cell_type": "code",
   "execution_count": 2,
   "metadata": {},
   "outputs": [],
   "source": [
    "import pandas as pd\n",
    "import matplotlib.pyplot as plt\n",
    "\n",
    "from tqdm import trange\n",
    "from matplotlib import animation"
   ]
  },
  {
   "cell_type": "markdown",
   "metadata": {},
   "source": [
    "Radiative forcing is modelled as a linear combination of exponential decay functions:\n",
    "\n",
    "$$\n",
    "IRF_x = a_{x,0} + \\sum a_{x,i} e^\\frac{-t}{τ_x,i} \\textrm{ for } t \\geq 0\n",
    "$$\n",
    "\n",
    "with \n",
    "\n",
    "$$\n",
    "\\sum a_{x,i} = 1\n",
    "$$\n",
    "\n",
    "For most substances, $a_{x,0} = 0$, i.e. they disappear completely from the atmosphere given enough time. Moreover, the only non-zero coefficient is commonly $a_{x,1} = 1$ (except for CO<sub>2</sub>), which yields:\n",
    "\n",
    "$$\n",
    "IRF_x = \\sum e^\\frac{-t}{τ_x}\n",
    "$$\n",
    "\n",
    "The variable $τ_x$ is the lifetime of the substance."
   ]
  },
  {
   "cell_type": "code",
   "execution_count": 5,
   "metadata": {},
   "outputs": [
    {
     "data": {
      "text/html": [
       "<div>\n",
       "<style scoped>\n",
       "    .dataframe tbody tr th:only-of-type {\n",
       "        vertical-align: middle;\n",
       "    }\n",
       "\n",
       "    .dataframe tbody tr th {\n",
       "        vertical-align: top;\n",
       "    }\n",
       "\n",
       "    .dataframe thead th {\n",
       "        text-align: right;\n",
       "    }\n",
       "</style>\n",
       "<table border=\"1\" class=\"dataframe\">\n",
       "  <thead>\n",
       "    <tr style=\"text-align: right;\">\n",
       "      <th></th>\n",
       "      <th>Chemical Formula</th>\n",
       "      <th>Lifetime (Years)</th>\n",
       "      <th>Radiative Efficiency (W m-2 ppb-1)</th>\n",
       "      <th>AGWP 20-year (W m-2 yr kg-1)</th>\n",
       "      <th>GWP 20-year</th>\n",
       "    </tr>\n",
       "    <tr>\n",
       "      <th>Acronym, Common Name or Chemical Name</th>\n",
       "      <th></th>\n",
       "      <th></th>\n",
       "      <th></th>\n",
       "      <th></th>\n",
       "      <th></th>\n",
       "    </tr>\n",
       "  </thead>\n",
       "  <tbody>\n",
       "    <tr>\n",
       "      <th>Methane</th>\n",
       "      <td>CH4</td>\n",
       "      <td>12.4</td>\n",
       "      <td>0.000363</td>\n",
       "      <td>2.090000e-12</td>\n",
       "      <td>84</td>\n",
       "    </tr>\n",
       "    <tr>\n",
       "      <th>Fossil methane</th>\n",
       "      <td>CH4</td>\n",
       "      <td>12.4</td>\n",
       "      <td>0.000363</td>\n",
       "      <td>2.110000e-12</td>\n",
       "      <td>85</td>\n",
       "    </tr>\n",
       "    <tr>\n",
       "      <th>Nitrous oxide</th>\n",
       "      <td>N2O</td>\n",
       "      <td>121</td>\n",
       "      <td>0.003000</td>\n",
       "      <td>6.580000e-12</td>\n",
       "      <td>264</td>\n",
       "    </tr>\n",
       "    <tr>\n",
       "      <th>CFC-11</th>\n",
       "      <td>CCl3F</td>\n",
       "      <td>45</td>\n",
       "      <td>0.260000</td>\n",
       "      <td>1.720000e-10</td>\n",
       "      <td>6900</td>\n",
       "    </tr>\n",
       "    <tr>\n",
       "      <th>CFC-12</th>\n",
       "      <td>CCl2F2</td>\n",
       "      <td>100</td>\n",
       "      <td>0.320000</td>\n",
       "      <td>2.690000e-10</td>\n",
       "      <td>10800</td>\n",
       "    </tr>\n",
       "  </tbody>\n",
       "</table>\n",
       "</div>"
      ],
      "text/plain": [
       "                                      Chemical Formula Lifetime (Years)  \\\n",
       "Acronym, Common Name or Chemical Name                                     \n",
       "Methane                                            CH4             12.4   \n",
       "Fossil methane                                     CH4             12.4   \n",
       "Nitrous oxide                                      N2O              121   \n",
       "CFC-11                                           CCl3F               45   \n",
       "CFC-12                                          CCl2F2              100   \n",
       "\n",
       "                                       Radiative Efficiency (W m-2 ppb-1)  \\\n",
       "Acronym, Common Name or Chemical Name                                       \n",
       "Methane                                                          0.000363   \n",
       "Fossil methane                                                   0.000363   \n",
       "Nitrous oxide                                                    0.003000   \n",
       "CFC-11                                                           0.260000   \n",
       "CFC-12                                                           0.320000   \n",
       "\n",
       "                                       AGWP 20-year (W m-2 yr kg-1)  \\\n",
       "Acronym, Common Name or Chemical Name                                 \n",
       "Methane                                                2.090000e-12   \n",
       "Fossil methane                                         2.110000e-12   \n",
       "Nitrous oxide                                          6.580000e-12   \n",
       "CFC-11                                                 1.720000e-10   \n",
       "CFC-12                                                 2.690000e-10   \n",
       "\n",
       "                                      GWP 20-year  \n",
       "Acronym, Common Name or Chemical Name              \n",
       "Methane                                        84  \n",
       "Fossil methane                                 85  \n",
       "Nitrous oxide                                 264  \n",
       "CFC-11                                       6900  \n",
       "CFC-12                                      10800  "
      ]
     },
     "execution_count": 5,
     "metadata": {},
     "output_type": "execute_result"
    }
   ],
   "source": [
    "a_x_i = pd.read_csv('GHG_property_table.csv',index_col=0)\n",
    "a_CO2_i = pd.read_csv('CO2_property_table.csv')\n",
    "a_x_i.iloc[1:,:5].head()"
   ]
  },
  {
   "cell_type": "code",
   "execution_count": 4,
   "metadata": {
    "scrolled": true
   },
   "outputs": [
    {
     "ename": "NameError",
     "evalue": "name 'GHG' is not defined",
     "output_type": "error",
     "traceback": [
      "\u001b[0;31m---------------------------------------------------------------------------\u001b[0m",
      "\u001b[0;31mNameError\u001b[0m                                 Traceback (most recent call last)",
      "\u001b[0;32m<ipython-input-4-4f8112d65ec9>\u001b[0m in \u001b[0;36m<module>\u001b[0;34m()\u001b[0m\n\u001b[0;32m----> 1\u001b[0;31m \u001b[0mGHG\u001b[0m\u001b[0;34m[\u001b[0m\u001b[0;34m[\u001b[0m\u001b[0;34m'Lifetime (Years)'\u001b[0m\u001b[0;34m,\u001b[0m\u001b[0;34m'Radiative Efficiency (W m-2 ppb-1)'\u001b[0m\u001b[0;34m]\u001b[0m\u001b[0;34m]\u001b[0m\u001b[0;34m.\u001b[0m\u001b[0mhead\u001b[0m\u001b[0;34m(\u001b[0m\u001b[0;34m)\u001b[0m\u001b[0;34m\u001b[0m\u001b[0;34m\u001b[0m\u001b[0m\n\u001b[0m",
      "\u001b[0;31mNameError\u001b[0m: name 'GHG' is not defined"
     ]
    }
   ],
   "source": [
    "GHG[['Lifetime (Years)','Radiative Efficiency (W m-2 ppb-1)']].head()"
   ]
  },
  {
   "cell_type": "markdown",
   "metadata": {},
   "source": [
    "The radiative forcing of CO<sub>2</sub> in the atmosphere is modelled as the sum of a constant (i.e. a fraction of the emitted CO<sub>2</sub> remains forever, $\\tau_0 = \\infty$) and three exponential decay functions:"
   ]
  },
  {
   "cell_type": "code",
   "execution_count": null,
   "metadata": {
    "scrolled": true
   },
   "outputs": [],
   "source": [
    "CO2_a = CO2[['a'+str(i) for i in range(4)]].copy()\n",
    "CO2_a['sum of a coefficients'] = CO2_a.sum(1)\n",
    "CO2_a"
   ]
  },
  {
   "cell_type": "code",
   "execution_count": null,
   "metadata": {},
   "outputs": [],
   "source": [
    "# Constants\n",
    "substances = [\n",
    "#       'Sulfur hexafluoride(Air/)',\n",
    "       'Dinitrogen monoxide(Air/)',\n",
    "       'Methane, fossil(Air/)',\n",
    "#       'Ethane, 1,1-difluoro-, HFC-152a(Air/high. pop.)',\n",
    "#       'Ethane, 1,1,1,2-tetrafluoro-, HFC-134a(Air/high. pop.)',\n",
    "#       'Methane, trichlorofluoro-, CFC-11(Air/high. pop.)',\n",
    "#       'Methane, tetrafluoro-, CFC-14(Air/high. pop.)',\n",
    "       'Carbon dioxide(Air/)']\n",
    "\n",
    "earth_area = 510072000000000 # m2\n",
    "year_in_s  = 365.2425 * 24 * 3600 # s/yr\n",
    "\n",
    "n_sub = len(substances)"
   ]
  },
  {
   "cell_type": "code",
   "execution_count": null,
   "metadata": {},
   "outputs": [],
   "source": [
    "time = np.linspace(0,1000,10001)\n",
    "IRF = pd.DataFrame(np.exp(np.outer(-time,1/GHG['Lifetime (Years)'])),\n",
    "            index=time,\n",
    "            columns=GHG.index)\n",
    "\n",
    "IRF['Carbon dioxide'] = CO2.a0.values + \\\n",
    "                            CO2.a1.values * np.exp(np.outer(-time,1/CO2.т1)) + \\\n",
    "                            CO2.a2.values * np.exp(np.outer(-time,1/CO2.т2)) + \\\n",
    "                            CO2.a3.values * np.exp(np.outer(-time,1/CO2.т3))"
   ]
  },
  {
   "cell_type": "code",
   "execution_count": null,
   "metadata": {},
   "outputs": [],
   "source": [
    "IRF.T.head().plot()"
   ]
  },
  {
   "cell_type": "code",
   "execution_count": null,
   "metadata": {},
   "outputs": [],
   "source": []
  }
 ],
 "metadata": {
  "kernelspec": {
   "display_name": "Python 3",
   "language": "python",
   "name": "python3"
  },
  "language_info": {
   "codemirror_mode": {
    "name": "ipython",
    "version": 3
   },
   "file_extension": ".py",
   "mimetype": "text/x-python",
   "name": "python",
   "nbconvert_exporter": "python",
   "pygments_lexer": "ipython3",
   "version": "3.6.8"
  },
  "toc": {
   "base_numbering": 1,
   "nav_menu": {},
   "number_sections": true,
   "sideBar": true,
   "skip_h1_title": true,
   "title_cell": "Table of Contents",
   "title_sidebar": "Contents",
   "toc_cell": false,
   "toc_position": {
    "height": "calc(100% - 180px)",
    "left": "10px",
    "top": "150px",
    "width": "165px"
   },
   "toc_section_display": true,
   "toc_window_display": true
  }
 },
 "nbformat": 4,
 "nbformat_minor": 2
}
